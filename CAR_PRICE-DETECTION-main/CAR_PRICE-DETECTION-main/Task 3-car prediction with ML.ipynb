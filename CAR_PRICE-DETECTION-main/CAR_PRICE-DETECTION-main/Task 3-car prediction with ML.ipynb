{
 "cells": [
  {
   "cell_type": "code",
   "execution_count": 1,
   "id": "d1779698",
   "metadata": {},
   "outputs": [],
   "source": [
    "import pandas as pd\n",
    "import numpy as np\n",
    "pd.set_option('display.max_rows', 500)\n",
    "pd.set_option('display.max_columns', 500)\n",
    "pd.set_option('display.width', 1000)"
   ]
  },
  {
   "cell_type": "code",
   "execution_count": 2,
   "id": "05b94664",
   "metadata": {},
   "outputs": [],
   "source": [
    "df=pd.read_csv('https://raw.githubusercontent.com/amankharwal/Website-data/master/CarPrice.csv')"
   ]
  },
  {
   "cell_type": "code",
   "execution_count": 3,
   "id": "aba918de",
   "metadata": {},
   "outputs": [
    {
     "data": {
      "text/html": [
       "<div>\n",
       "<style scoped>\n",
       "    .dataframe tbody tr th:only-of-type {\n",
       "        vertical-align: middle;\n",
       "    }\n",
       "\n",
       "    .dataframe tbody tr th {\n",
       "        vertical-align: top;\n",
       "    }\n",
       "\n",
       "    .dataframe thead th {\n",
       "        text-align: right;\n",
       "    }\n",
       "</style>\n",
       "<table border=\"1\" class=\"dataframe\">\n",
       "  <thead>\n",
       "    <tr style=\"text-align: right;\">\n",
       "      <th></th>\n",
       "      <th>car_ID</th>\n",
       "      <th>symboling</th>\n",
       "      <th>CarName</th>\n",
       "      <th>fueltype</th>\n",
       "      <th>aspiration</th>\n",
       "      <th>doornumber</th>\n",
       "      <th>carbody</th>\n",
       "      <th>drivewheel</th>\n",
       "      <th>enginelocation</th>\n",
       "      <th>wheelbase</th>\n",
       "      <th>carlength</th>\n",
       "      <th>carwidth</th>\n",
       "      <th>carheight</th>\n",
       "      <th>curbweight</th>\n",
       "      <th>enginetype</th>\n",
       "      <th>cylindernumber</th>\n",
       "      <th>enginesize</th>\n",
       "      <th>fuelsystem</th>\n",
       "      <th>boreratio</th>\n",
       "      <th>stroke</th>\n",
       "      <th>compressionratio</th>\n",
       "      <th>horsepower</th>\n",
       "      <th>peakrpm</th>\n",
       "      <th>citympg</th>\n",
       "      <th>highwaympg</th>\n",
       "      <th>price</th>\n",
       "    </tr>\n",
       "  </thead>\n",
       "  <tbody>\n",
       "    <tr>\n",
       "      <th>0</th>\n",
       "      <td>1</td>\n",
       "      <td>3</td>\n",
       "      <td>alfa-romero giulia</td>\n",
       "      <td>gas</td>\n",
       "      <td>std</td>\n",
       "      <td>two</td>\n",
       "      <td>convertible</td>\n",
       "      <td>rwd</td>\n",
       "      <td>front</td>\n",
       "      <td>88.6</td>\n",
       "      <td>168.8</td>\n",
       "      <td>64.1</td>\n",
       "      <td>48.8</td>\n",
       "      <td>2548</td>\n",
       "      <td>dohc</td>\n",
       "      <td>four</td>\n",
       "      <td>130</td>\n",
       "      <td>mpfi</td>\n",
       "      <td>3.47</td>\n",
       "      <td>2.68</td>\n",
       "      <td>9.0</td>\n",
       "      <td>111</td>\n",
       "      <td>5000</td>\n",
       "      <td>21</td>\n",
       "      <td>27</td>\n",
       "      <td>13495.0</td>\n",
       "    </tr>\n",
       "    <tr>\n",
       "      <th>1</th>\n",
       "      <td>2</td>\n",
       "      <td>3</td>\n",
       "      <td>alfa-romero stelvio</td>\n",
       "      <td>gas</td>\n",
       "      <td>std</td>\n",
       "      <td>two</td>\n",
       "      <td>convertible</td>\n",
       "      <td>rwd</td>\n",
       "      <td>front</td>\n",
       "      <td>88.6</td>\n",
       "      <td>168.8</td>\n",
       "      <td>64.1</td>\n",
       "      <td>48.8</td>\n",
       "      <td>2548</td>\n",
       "      <td>dohc</td>\n",
       "      <td>four</td>\n",
       "      <td>130</td>\n",
       "      <td>mpfi</td>\n",
       "      <td>3.47</td>\n",
       "      <td>2.68</td>\n",
       "      <td>9.0</td>\n",
       "      <td>111</td>\n",
       "      <td>5000</td>\n",
       "      <td>21</td>\n",
       "      <td>27</td>\n",
       "      <td>16500.0</td>\n",
       "    </tr>\n",
       "    <tr>\n",
       "      <th>2</th>\n",
       "      <td>3</td>\n",
       "      <td>1</td>\n",
       "      <td>alfa-romero Quadrifoglio</td>\n",
       "      <td>gas</td>\n",
       "      <td>std</td>\n",
       "      <td>two</td>\n",
       "      <td>hatchback</td>\n",
       "      <td>rwd</td>\n",
       "      <td>front</td>\n",
       "      <td>94.5</td>\n",
       "      <td>171.2</td>\n",
       "      <td>65.5</td>\n",
       "      <td>52.4</td>\n",
       "      <td>2823</td>\n",
       "      <td>ohcv</td>\n",
       "      <td>six</td>\n",
       "      <td>152</td>\n",
       "      <td>mpfi</td>\n",
       "      <td>2.68</td>\n",
       "      <td>3.47</td>\n",
       "      <td>9.0</td>\n",
       "      <td>154</td>\n",
       "      <td>5000</td>\n",
       "      <td>19</td>\n",
       "      <td>26</td>\n",
       "      <td>16500.0</td>\n",
       "    </tr>\n",
       "    <tr>\n",
       "      <th>3</th>\n",
       "      <td>4</td>\n",
       "      <td>2</td>\n",
       "      <td>audi 100 ls</td>\n",
       "      <td>gas</td>\n",
       "      <td>std</td>\n",
       "      <td>four</td>\n",
       "      <td>sedan</td>\n",
       "      <td>fwd</td>\n",
       "      <td>front</td>\n",
       "      <td>99.8</td>\n",
       "      <td>176.6</td>\n",
       "      <td>66.2</td>\n",
       "      <td>54.3</td>\n",
       "      <td>2337</td>\n",
       "      <td>ohc</td>\n",
       "      <td>four</td>\n",
       "      <td>109</td>\n",
       "      <td>mpfi</td>\n",
       "      <td>3.19</td>\n",
       "      <td>3.40</td>\n",
       "      <td>10.0</td>\n",
       "      <td>102</td>\n",
       "      <td>5500</td>\n",
       "      <td>24</td>\n",
       "      <td>30</td>\n",
       "      <td>13950.0</td>\n",
       "    </tr>\n",
       "    <tr>\n",
       "      <th>4</th>\n",
       "      <td>5</td>\n",
       "      <td>2</td>\n",
       "      <td>audi 100ls</td>\n",
       "      <td>gas</td>\n",
       "      <td>std</td>\n",
       "      <td>four</td>\n",
       "      <td>sedan</td>\n",
       "      <td>4wd</td>\n",
       "      <td>front</td>\n",
       "      <td>99.4</td>\n",
       "      <td>176.6</td>\n",
       "      <td>66.4</td>\n",
       "      <td>54.3</td>\n",
       "      <td>2824</td>\n",
       "      <td>ohc</td>\n",
       "      <td>five</td>\n",
       "      <td>136</td>\n",
       "      <td>mpfi</td>\n",
       "      <td>3.19</td>\n",
       "      <td>3.40</td>\n",
       "      <td>8.0</td>\n",
       "      <td>115</td>\n",
       "      <td>5500</td>\n",
       "      <td>18</td>\n",
       "      <td>22</td>\n",
       "      <td>17450.0</td>\n",
       "    </tr>\n",
       "  </tbody>\n",
       "</table>\n",
       "</div>"
      ],
      "text/plain": [
       "   car_ID  symboling                   CarName fueltype aspiration doornumber      carbody drivewheel enginelocation  wheelbase  carlength  carwidth  carheight  curbweight enginetype cylindernumber  enginesize fuelsystem  boreratio  stroke  compressionratio  horsepower  peakrpm  citympg  highwaympg    price\n",
       "0       1          3        alfa-romero giulia      gas        std        two  convertible        rwd          front       88.6      168.8      64.1       48.8        2548       dohc           four         130       mpfi       3.47    2.68               9.0         111     5000       21          27  13495.0\n",
       "1       2          3       alfa-romero stelvio      gas        std        two  convertible        rwd          front       88.6      168.8      64.1       48.8        2548       dohc           four         130       mpfi       3.47    2.68               9.0         111     5000       21          27  16500.0\n",
       "2       3          1  alfa-romero Quadrifoglio      gas        std        two    hatchback        rwd          front       94.5      171.2      65.5       52.4        2823       ohcv            six         152       mpfi       2.68    3.47               9.0         154     5000       19          26  16500.0\n",
       "3       4          2               audi 100 ls      gas        std       four        sedan        fwd          front       99.8      176.6      66.2       54.3        2337        ohc           four         109       mpfi       3.19    3.40              10.0         102     5500       24          30  13950.0\n",
       "4       5          2                audi 100ls      gas        std       four        sedan        4wd          front       99.4      176.6      66.4       54.3        2824        ohc           five         136       mpfi       3.19    3.40               8.0         115     5500       18          22  17450.0"
      ]
     },
     "execution_count": 3,
     "metadata": {},
     "output_type": "execute_result"
    }
   ],
   "source": [
    "df.head()"
   ]
  },
  {
   "cell_type": "code",
   "execution_count": 4,
   "id": "08d2f548",
   "metadata": {},
   "outputs": [
    {
     "data": {
      "text/plain": [
       "Index(['car_ID', 'symboling', 'CarName', 'fueltype', 'aspiration', 'doornumber', 'carbody', 'drivewheel', 'enginelocation', 'wheelbase', 'carlength', 'carwidth', 'carheight', 'curbweight', 'enginetype', 'cylindernumber', 'enginesize', 'fuelsystem', 'boreratio', 'stroke', 'compressionratio', 'horsepower', 'peakrpm', 'citympg', 'highwaympg', 'price'], dtype='object')"
      ]
     },
     "execution_count": 4,
     "metadata": {},
     "output_type": "execute_result"
    }
   ],
   "source": [
    "df.columns"
   ]
  },
  {
   "cell_type": "code",
   "execution_count": 5,
   "id": "99015a06",
   "metadata": {},
   "outputs": [
    {
     "name": "stdout",
     "output_type": "stream",
     "text": [
      "<class 'pandas.core.frame.DataFrame'>\n",
      "RangeIndex: 205 entries, 0 to 204\n",
      "Data columns (total 26 columns):\n",
      " #   Column            Non-Null Count  Dtype  \n",
      "---  ------            --------------  -----  \n",
      " 0   car_ID            205 non-null    int64  \n",
      " 1   symboling         205 non-null    int64  \n",
      " 2   CarName           205 non-null    object \n",
      " 3   fueltype          205 non-null    object \n",
      " 4   aspiration        205 non-null    object \n",
      " 5   doornumber        205 non-null    object \n",
      " 6   carbody           205 non-null    object \n",
      " 7   drivewheel        205 non-null    object \n",
      " 8   enginelocation    205 non-null    object \n",
      " 9   wheelbase         205 non-null    float64\n",
      " 10  carlength         205 non-null    float64\n",
      " 11  carwidth          205 non-null    float64\n",
      " 12  carheight         205 non-null    float64\n",
      " 13  curbweight        205 non-null    int64  \n",
      " 14  enginetype        205 non-null    object \n",
      " 15  cylindernumber    205 non-null    object \n",
      " 16  enginesize        205 non-null    int64  \n",
      " 17  fuelsystem        205 non-null    object \n",
      " 18  boreratio         205 non-null    float64\n",
      " 19  stroke            205 non-null    float64\n",
      " 20  compressionratio  205 non-null    float64\n",
      " 21  horsepower        205 non-null    int64  \n",
      " 22  peakrpm           205 non-null    int64  \n",
      " 23  citympg           205 non-null    int64  \n",
      " 24  highwaympg        205 non-null    int64  \n",
      " 25  price             205 non-null    float64\n",
      "dtypes: float64(8), int64(8), object(10)\n",
      "memory usage: 41.8+ KB\n"
     ]
    }
   ],
   "source": [
    "df.info()"
   ]
  },
  {
   "cell_type": "code",
   "execution_count": 6,
   "id": "45371d13",
   "metadata": {},
   "outputs": [
    {
     "data": {
      "text/plain": [
       "car_ID              0\n",
       "symboling           0\n",
       "CarName             0\n",
       "fueltype            0\n",
       "aspiration          0\n",
       "doornumber          0\n",
       "carbody             0\n",
       "drivewheel          0\n",
       "enginelocation      0\n",
       "wheelbase           0\n",
       "carlength           0\n",
       "carwidth            0\n",
       "carheight           0\n",
       "curbweight          0\n",
       "enginetype          0\n",
       "cylindernumber      0\n",
       "enginesize          0\n",
       "fuelsystem          0\n",
       "boreratio           0\n",
       "stroke              0\n",
       "compressionratio    0\n",
       "horsepower          0\n",
       "peakrpm             0\n",
       "citympg             0\n",
       "highwaympg          0\n",
       "price               0\n",
       "dtype: int64"
      ]
     },
     "execution_count": 6,
     "metadata": {},
     "output_type": "execute_result"
    }
   ],
   "source": [
    "df.isna().sum()"
   ]
  },
  {
   "cell_type": "code",
   "execution_count": 7,
   "id": "6619b50c",
   "metadata": {},
   "outputs": [],
   "source": [
    "cat=df.select_dtypes(exclude=np.number)"
   ]
  },
  {
   "cell_type": "code",
   "execution_count": 8,
   "id": "d72e9857",
   "metadata": {},
   "outputs": [
    {
     "data": {
      "text/html": [
       "<div>\n",
       "<style scoped>\n",
       "    .dataframe tbody tr th:only-of-type {\n",
       "        vertical-align: middle;\n",
       "    }\n",
       "\n",
       "    .dataframe tbody tr th {\n",
       "        vertical-align: top;\n",
       "    }\n",
       "\n",
       "    .dataframe thead th {\n",
       "        text-align: right;\n",
       "    }\n",
       "</style>\n",
       "<table border=\"1\" class=\"dataframe\">\n",
       "  <thead>\n",
       "    <tr style=\"text-align: right;\">\n",
       "      <th></th>\n",
       "      <th>CarName</th>\n",
       "      <th>fueltype</th>\n",
       "      <th>aspiration</th>\n",
       "      <th>doornumber</th>\n",
       "      <th>carbody</th>\n",
       "      <th>drivewheel</th>\n",
       "      <th>enginelocation</th>\n",
       "      <th>enginetype</th>\n",
       "      <th>cylindernumber</th>\n",
       "      <th>fuelsystem</th>\n",
       "    </tr>\n",
       "  </thead>\n",
       "  <tbody>\n",
       "    <tr>\n",
       "      <th>0</th>\n",
       "      <td>alfa-romero giulia</td>\n",
       "      <td>gas</td>\n",
       "      <td>std</td>\n",
       "      <td>two</td>\n",
       "      <td>convertible</td>\n",
       "      <td>rwd</td>\n",
       "      <td>front</td>\n",
       "      <td>dohc</td>\n",
       "      <td>four</td>\n",
       "      <td>mpfi</td>\n",
       "    </tr>\n",
       "    <tr>\n",
       "      <th>1</th>\n",
       "      <td>alfa-romero stelvio</td>\n",
       "      <td>gas</td>\n",
       "      <td>std</td>\n",
       "      <td>two</td>\n",
       "      <td>convertible</td>\n",
       "      <td>rwd</td>\n",
       "      <td>front</td>\n",
       "      <td>dohc</td>\n",
       "      <td>four</td>\n",
       "      <td>mpfi</td>\n",
       "    </tr>\n",
       "    <tr>\n",
       "      <th>2</th>\n",
       "      <td>alfa-romero Quadrifoglio</td>\n",
       "      <td>gas</td>\n",
       "      <td>std</td>\n",
       "      <td>two</td>\n",
       "      <td>hatchback</td>\n",
       "      <td>rwd</td>\n",
       "      <td>front</td>\n",
       "      <td>ohcv</td>\n",
       "      <td>six</td>\n",
       "      <td>mpfi</td>\n",
       "    </tr>\n",
       "    <tr>\n",
       "      <th>3</th>\n",
       "      <td>audi 100 ls</td>\n",
       "      <td>gas</td>\n",
       "      <td>std</td>\n",
       "      <td>four</td>\n",
       "      <td>sedan</td>\n",
       "      <td>fwd</td>\n",
       "      <td>front</td>\n",
       "      <td>ohc</td>\n",
       "      <td>four</td>\n",
       "      <td>mpfi</td>\n",
       "    </tr>\n",
       "    <tr>\n",
       "      <th>4</th>\n",
       "      <td>audi 100ls</td>\n",
       "      <td>gas</td>\n",
       "      <td>std</td>\n",
       "      <td>four</td>\n",
       "      <td>sedan</td>\n",
       "      <td>4wd</td>\n",
       "      <td>front</td>\n",
       "      <td>ohc</td>\n",
       "      <td>five</td>\n",
       "      <td>mpfi</td>\n",
       "    </tr>\n",
       "  </tbody>\n",
       "</table>\n",
       "</div>"
      ],
      "text/plain": [
       "                    CarName fueltype aspiration doornumber      carbody drivewheel enginelocation enginetype cylindernumber fuelsystem\n",
       "0        alfa-romero giulia      gas        std        two  convertible        rwd          front       dohc           four       mpfi\n",
       "1       alfa-romero stelvio      gas        std        two  convertible        rwd          front       dohc           four       mpfi\n",
       "2  alfa-romero Quadrifoglio      gas        std        two    hatchback        rwd          front       ohcv            six       mpfi\n",
       "3               audi 100 ls      gas        std       four        sedan        fwd          front        ohc           four       mpfi\n",
       "4                audi 100ls      gas        std       four        sedan        4wd          front        ohc           five       mpfi"
      ]
     },
     "execution_count": 8,
     "metadata": {},
     "output_type": "execute_result"
    }
   ],
   "source": [
    "cat.head()"
   ]
  },
  {
   "cell_type": "code",
   "execution_count": 9,
   "id": "d85dc26b",
   "metadata": {},
   "outputs": [
    {
     "name": "stdout",
     "output_type": "stream",
     "text": [
      "unique characters in column(CarName) values=['Nissan versa' 'alfa-romero Quadrifoglio' 'alfa-romero giulia'\n",
      " 'alfa-romero stelvio' 'audi 100 ls' 'audi 100ls' 'audi 4000' 'audi 5000'\n",
      " 'audi 5000s (diesel)' 'audi fox' 'bmw 320i' 'bmw x1' 'bmw x3' 'bmw x4'\n",
      " 'bmw x5' 'bmw z4' 'buick century' 'buick century luxus (sw)'\n",
      " 'buick century special' 'buick electra 225 custom'\n",
      " 'buick opel isuzu deluxe' 'buick regal sport coupe (turbo)'\n",
      " 'buick skyhawk' 'buick skylark' 'chevrolet impala'\n",
      " 'chevrolet monte carlo' 'chevrolet vega 2300' 'dodge challenger se'\n",
      " 'dodge colt (sw)' 'dodge colt hardtop' 'dodge coronet custom'\n",
      " 'dodge coronet custom (sw)' 'dodge d200' 'dodge dart custom'\n",
      " 'dodge monaco (sw)' 'dodge rampage' 'honda accord' 'honda accord cvcc'\n",
      " 'honda accord lx' 'honda civic' 'honda civic (auto)' 'honda civic 1300'\n",
      " 'honda civic 1500 gl' 'honda civic cvcc' 'honda prelude' 'isuzu D-Max '\n",
      " 'isuzu D-Max V-Cross' 'isuzu MU-X' 'jaguar xf' 'jaguar xj' 'jaguar xk'\n",
      " 'maxda glc deluxe' 'maxda rx3' 'mazda 626' 'mazda glc' 'mazda glc 4'\n",
      " 'mazda glc custom' 'mazda glc custom l' 'mazda glc deluxe' 'mazda rx-4'\n",
      " 'mazda rx-7 gs' 'mazda rx2 coupe' 'mercury cougar' 'mitsubishi g4'\n",
      " 'mitsubishi lancer' 'mitsubishi mirage' 'mitsubishi mirage g4'\n",
      " 'mitsubishi montero' 'mitsubishi outlander' 'mitsubishi pajero'\n",
      " 'nissan clipper' 'nissan dayz' 'nissan fuga' 'nissan gt-r' 'nissan juke'\n",
      " 'nissan kicks' 'nissan latio' 'nissan leaf' 'nissan note' 'nissan nv200'\n",
      " 'nissan otti' 'nissan rogue' 'nissan teana' 'nissan titan' 'peugeot 304'\n",
      " 'peugeot 504' 'peugeot 504 (sw)' 'peugeot 505s turbo diesel'\n",
      " 'peugeot 604sl' 'plymouth cricket' 'plymouth duster'\n",
      " 'plymouth fury gran sedan' 'plymouth fury iii'\n",
      " 'plymouth satellite custom (sw)' 'plymouth valiant' 'porcshce panamera'\n",
      " 'porsche boxter' 'porsche cayenne' 'porsche macan' 'renault 12tl'\n",
      " 'renault 5 gtl' 'saab 99e' 'saab 99gle' 'saab 99le' 'subaru'\n",
      " 'subaru baja' 'subaru brz' 'subaru dl' 'subaru r1' 'subaru r2'\n",
      " 'subaru trezia' 'subaru tribeca' 'toyota carina' 'toyota celica gt'\n",
      " 'toyota celica gt liftback' 'toyota corolla' 'toyota corolla 1200'\n",
      " 'toyota corolla 1600 (sw)' 'toyota corolla liftback'\n",
      " 'toyota corolla tercel' 'toyota corona' 'toyota corona hardtop'\n",
      " 'toyota corona liftback' 'toyota corona mark ii' 'toyota cressida'\n",
      " 'toyota mark ii' 'toyota starlet' 'toyota tercel' 'toyouta tercel'\n",
      " 'vokswagen rabbit' 'volkswagen 1131 deluxe sedan' 'volkswagen 411 (sw)'\n",
      " 'volkswagen dasher' 'volkswagen model 111' 'volkswagen rabbit'\n",
      " 'volkswagen rabbit custom' 'volkswagen super beetle' 'volkswagen type 3'\n",
      " 'volvo 144ea' 'volvo 145e (sw)' 'volvo 244dl' 'volvo 245' 'volvo 246'\n",
      " 'volvo 264gl' 'volvo diesel' 'vw dasher' 'vw rabbit']\n",
      "unique characters in column(fueltype) values=['diesel' 'gas']\n",
      "unique characters in column(aspiration) values=['std' 'turbo']\n",
      "unique characters in column(doornumber) values=['four' 'two']\n",
      "unique characters in column(carbody) values=['convertible' 'hardtop' 'hatchback' 'sedan' 'wagon']\n",
      "unique characters in column(drivewheel) values=['4wd' 'fwd' 'rwd']\n",
      "unique characters in column(enginelocation) values=['front' 'rear']\n",
      "unique characters in column(enginetype) values=['dohc' 'dohcv' 'l' 'ohc' 'ohcf' 'ohcv' 'rotor']\n",
      "unique characters in column(cylindernumber) values=['eight' 'five' 'four' 'six' 'three' 'twelve' 'two']\n",
      "unique characters in column(fuelsystem) values=['1bbl' '2bbl' '4bbl' 'idi' 'mfi' 'mpfi' 'spdi' 'spfi']\n"
     ]
    }
   ],
   "source": [
    "for i in range(len(cat.columns)):\n",
    "    print(\"unique characters in column({}) values={}\".format(cat.columns[i],np.unique(df[cat.columns[i]])))"
   ]
  },
  {
   "cell_type": "code",
   "execution_count": 10,
   "id": "595e46ee",
   "metadata": {},
   "outputs": [],
   "source": [
    "cat.drop('CarName',inplace=True,axis='columns')"
   ]
  },
  {
   "cell_type": "code",
   "execution_count": 11,
   "id": "a412577c",
   "metadata": {},
   "outputs": [
    {
     "data": {
      "text/plain": [
       "(205, 23)"
      ]
     },
     "execution_count": 11,
     "metadata": {},
     "output_type": "execute_result"
    }
   ],
   "source": [
    "d=pd.get_dummies(cat[['fueltype','aspiration','doornumber','carbody','drivewheel','enginelocation','cylindernumber','fuelsystem']],drop_first=True)\n",
    "d.shape"
   ]
  },
  {
   "cell_type": "code",
   "execution_count": 12,
   "id": "17194f92",
   "metadata": {},
   "outputs": [
    {
     "data": {
      "text/plain": [
       "(205, 26)"
      ]
     },
     "execution_count": 12,
     "metadata": {},
     "output_type": "execute_result"
    }
   ],
   "source": [
    "df.shape"
   ]
  },
  {
   "cell_type": "code",
   "execution_count": 13,
   "id": "8674c9ad",
   "metadata": {},
   "outputs": [
    {
     "data": {
      "text/plain": [
       "(205, 49)"
      ]
     },
     "execution_count": 13,
     "metadata": {},
     "output_type": "execute_result"
    }
   ],
   "source": [
    "df=pd.concat([df,d],axis='columns')\n",
    "df.shape"
   ]
  },
  {
   "cell_type": "code",
   "execution_count": 14,
   "id": "c7623330",
   "metadata": {},
   "outputs": [
    {
     "data": {
      "text/plain": [
       "car_ID                   0\n",
       "symboling                0\n",
       "CarName                  0\n",
       "fueltype                 0\n",
       "aspiration               0\n",
       "doornumber               0\n",
       "carbody                  0\n",
       "drivewheel               0\n",
       "enginelocation           0\n",
       "wheelbase                0\n",
       "carlength                0\n",
       "carwidth                 0\n",
       "carheight                0\n",
       "curbweight               0\n",
       "enginetype               0\n",
       "cylindernumber           0\n",
       "enginesize               0\n",
       "fuelsystem               0\n",
       "boreratio                0\n",
       "stroke                   0\n",
       "compressionratio         0\n",
       "horsepower               0\n",
       "peakrpm                  0\n",
       "citympg                  0\n",
       "highwaympg               0\n",
       "price                    0\n",
       "fueltype_gas             0\n",
       "aspiration_turbo         0\n",
       "doornumber_two           0\n",
       "carbody_hardtop          0\n",
       "carbody_hatchback        0\n",
       "carbody_sedan            0\n",
       "carbody_wagon            0\n",
       "drivewheel_fwd           0\n",
       "drivewheel_rwd           0\n",
       "enginelocation_rear      0\n",
       "cylindernumber_five      0\n",
       "cylindernumber_four      0\n",
       "cylindernumber_six       0\n",
       "cylindernumber_three     0\n",
       "cylindernumber_twelve    0\n",
       "cylindernumber_two       0\n",
       "fuelsystem_2bbl          0\n",
       "fuelsystem_4bbl          0\n",
       "fuelsystem_idi           0\n",
       "fuelsystem_mfi           0\n",
       "fuelsystem_mpfi          0\n",
       "fuelsystem_spdi          0\n",
       "fuelsystem_spfi          0\n",
       "dtype: int64"
      ]
     },
     "execution_count": 14,
     "metadata": {},
     "output_type": "execute_result"
    }
   ],
   "source": [
    "df.isna().sum()"
   ]
  },
  {
   "cell_type": "code",
   "execution_count": 15,
   "id": "ae5b1870",
   "metadata": {},
   "outputs": [
    {
     "name": "stdout",
     "output_type": "stream",
     "text": [
      "<class 'pandas.core.frame.DataFrame'>\n",
      "RangeIndex: 205 entries, 0 to 204\n",
      "Data columns (total 49 columns):\n",
      " #   Column                 Non-Null Count  Dtype  \n",
      "---  ------                 --------------  -----  \n",
      " 0   car_ID                 205 non-null    int64  \n",
      " 1   symboling              205 non-null    int64  \n",
      " 2   CarName                205 non-null    object \n",
      " 3   fueltype               205 non-null    object \n",
      " 4   aspiration             205 non-null    object \n",
      " 5   doornumber             205 non-null    object \n",
      " 6   carbody                205 non-null    object \n",
      " 7   drivewheel             205 non-null    object \n",
      " 8   enginelocation         205 non-null    object \n",
      " 9   wheelbase              205 non-null    float64\n",
      " 10  carlength              205 non-null    float64\n",
      " 11  carwidth               205 non-null    float64\n",
      " 12  carheight              205 non-null    float64\n",
      " 13  curbweight             205 non-null    int64  \n",
      " 14  enginetype             205 non-null    object \n",
      " 15  cylindernumber         205 non-null    object \n",
      " 16  enginesize             205 non-null    int64  \n",
      " 17  fuelsystem             205 non-null    object \n",
      " 18  boreratio              205 non-null    float64\n",
      " 19  stroke                 205 non-null    float64\n",
      " 20  compressionratio       205 non-null    float64\n",
      " 21  horsepower             205 non-null    int64  \n",
      " 22  peakrpm                205 non-null    int64  \n",
      " 23  citympg                205 non-null    int64  \n",
      " 24  highwaympg             205 non-null    int64  \n",
      " 25  price                  205 non-null    float64\n",
      " 26  fueltype_gas           205 non-null    uint8  \n",
      " 27  aspiration_turbo       205 non-null    uint8  \n",
      " 28  doornumber_two         205 non-null    uint8  \n",
      " 29  carbody_hardtop        205 non-null    uint8  \n",
      " 30  carbody_hatchback      205 non-null    uint8  \n",
      " 31  carbody_sedan          205 non-null    uint8  \n",
      " 32  carbody_wagon          205 non-null    uint8  \n",
      " 33  drivewheel_fwd         205 non-null    uint8  \n",
      " 34  drivewheel_rwd         205 non-null    uint8  \n",
      " 35  enginelocation_rear    205 non-null    uint8  \n",
      " 36  cylindernumber_five    205 non-null    uint8  \n",
      " 37  cylindernumber_four    205 non-null    uint8  \n",
      " 38  cylindernumber_six     205 non-null    uint8  \n",
      " 39  cylindernumber_three   205 non-null    uint8  \n",
      " 40  cylindernumber_twelve  205 non-null    uint8  \n",
      " 41  cylindernumber_two     205 non-null    uint8  \n",
      " 42  fuelsystem_2bbl        205 non-null    uint8  \n",
      " 43  fuelsystem_4bbl        205 non-null    uint8  \n",
      " 44  fuelsystem_idi         205 non-null    uint8  \n",
      " 45  fuelsystem_mfi         205 non-null    uint8  \n",
      " 46  fuelsystem_mpfi        205 non-null    uint8  \n",
      " 47  fuelsystem_spdi        205 non-null    uint8  \n",
      " 48  fuelsystem_spfi        205 non-null    uint8  \n",
      "dtypes: float64(8), int64(8), object(10), uint8(23)\n",
      "memory usage: 46.4+ KB\n"
     ]
    }
   ],
   "source": [
    "df.info()"
   ]
  },
  {
   "cell_type": "code",
   "execution_count": 33,
   "id": "07e427e5",
   "metadata": {},
   "outputs": [
    {
     "data": {
      "text/html": [
       "<div>\n",
       "<style scoped>\n",
       "    .dataframe tbody tr th:only-of-type {\n",
       "        vertical-align: middle;\n",
       "    }\n",
       "\n",
       "    .dataframe tbody tr th {\n",
       "        vertical-align: top;\n",
       "    }\n",
       "\n",
       "    .dataframe thead th {\n",
       "        text-align: right;\n",
       "    }\n",
       "</style>\n",
       "<table border=\"1\" class=\"dataframe\">\n",
       "  <thead>\n",
       "    <tr style=\"text-align: right;\">\n",
       "      <th></th>\n",
       "      <th>car_ID</th>\n",
       "      <th>symboling</th>\n",
       "      <th>wheelbase</th>\n",
       "      <th>carlength</th>\n",
       "      <th>carwidth</th>\n",
       "      <th>carheight</th>\n",
       "      <th>curbweight</th>\n",
       "      <th>enginesize</th>\n",
       "      <th>boreratio</th>\n",
       "      <th>stroke</th>\n",
       "      <th>compressionratio</th>\n",
       "      <th>horsepower</th>\n",
       "      <th>peakrpm</th>\n",
       "      <th>citympg</th>\n",
       "      <th>highwaympg</th>\n",
       "      <th>fueltype_gas</th>\n",
       "      <th>aspiration_turbo</th>\n",
       "      <th>doornumber_two</th>\n",
       "      <th>carbody_hardtop</th>\n",
       "      <th>carbody_hatchback</th>\n",
       "      <th>carbody_sedan</th>\n",
       "      <th>carbody_wagon</th>\n",
       "      <th>drivewheel_fwd</th>\n",
       "      <th>drivewheel_rwd</th>\n",
       "      <th>enginelocation_rear</th>\n",
       "      <th>cylindernumber_five</th>\n",
       "      <th>cylindernumber_four</th>\n",
       "      <th>cylindernumber_six</th>\n",
       "      <th>cylindernumber_three</th>\n",
       "      <th>cylindernumber_twelve</th>\n",
       "      <th>cylindernumber_two</th>\n",
       "      <th>fuelsystem_2bbl</th>\n",
       "      <th>fuelsystem_4bbl</th>\n",
       "      <th>fuelsystem_idi</th>\n",
       "      <th>fuelsystem_mfi</th>\n",
       "      <th>fuelsystem_mpfi</th>\n",
       "      <th>fuelsystem_spdi</th>\n",
       "      <th>fuelsystem_spfi</th>\n",
       "    </tr>\n",
       "  </thead>\n",
       "  <tbody>\n",
       "    <tr>\n",
       "      <th>0</th>\n",
       "      <td>1</td>\n",
       "      <td>3</td>\n",
       "      <td>88.6</td>\n",
       "      <td>168.8</td>\n",
       "      <td>64.1</td>\n",
       "      <td>48.8</td>\n",
       "      <td>2548</td>\n",
       "      <td>130</td>\n",
       "      <td>3.47</td>\n",
       "      <td>2.68</td>\n",
       "      <td>9.0</td>\n",
       "      <td>111</td>\n",
       "      <td>5000</td>\n",
       "      <td>21</td>\n",
       "      <td>27</td>\n",
       "      <td>1</td>\n",
       "      <td>0</td>\n",
       "      <td>1</td>\n",
       "      <td>0</td>\n",
       "      <td>0</td>\n",
       "      <td>0</td>\n",
       "      <td>0</td>\n",
       "      <td>0</td>\n",
       "      <td>1</td>\n",
       "      <td>0</td>\n",
       "      <td>0</td>\n",
       "      <td>1</td>\n",
       "      <td>0</td>\n",
       "      <td>0</td>\n",
       "      <td>0</td>\n",
       "      <td>0</td>\n",
       "      <td>0</td>\n",
       "      <td>0</td>\n",
       "      <td>0</td>\n",
       "      <td>0</td>\n",
       "      <td>1</td>\n",
       "      <td>0</td>\n",
       "      <td>0</td>\n",
       "    </tr>\n",
       "    <tr>\n",
       "      <th>1</th>\n",
       "      <td>2</td>\n",
       "      <td>3</td>\n",
       "      <td>88.6</td>\n",
       "      <td>168.8</td>\n",
       "      <td>64.1</td>\n",
       "      <td>48.8</td>\n",
       "      <td>2548</td>\n",
       "      <td>130</td>\n",
       "      <td>3.47</td>\n",
       "      <td>2.68</td>\n",
       "      <td>9.0</td>\n",
       "      <td>111</td>\n",
       "      <td>5000</td>\n",
       "      <td>21</td>\n",
       "      <td>27</td>\n",
       "      <td>1</td>\n",
       "      <td>0</td>\n",
       "      <td>1</td>\n",
       "      <td>0</td>\n",
       "      <td>0</td>\n",
       "      <td>0</td>\n",
       "      <td>0</td>\n",
       "      <td>0</td>\n",
       "      <td>1</td>\n",
       "      <td>0</td>\n",
       "      <td>0</td>\n",
       "      <td>1</td>\n",
       "      <td>0</td>\n",
       "      <td>0</td>\n",
       "      <td>0</td>\n",
       "      <td>0</td>\n",
       "      <td>0</td>\n",
       "      <td>0</td>\n",
       "      <td>0</td>\n",
       "      <td>0</td>\n",
       "      <td>1</td>\n",
       "      <td>0</td>\n",
       "      <td>0</td>\n",
       "    </tr>\n",
       "    <tr>\n",
       "      <th>2</th>\n",
       "      <td>3</td>\n",
       "      <td>1</td>\n",
       "      <td>94.5</td>\n",
       "      <td>171.2</td>\n",
       "      <td>65.5</td>\n",
       "      <td>52.4</td>\n",
       "      <td>2823</td>\n",
       "      <td>152</td>\n",
       "      <td>2.68</td>\n",
       "      <td>3.47</td>\n",
       "      <td>9.0</td>\n",
       "      <td>154</td>\n",
       "      <td>5000</td>\n",
       "      <td>19</td>\n",
       "      <td>26</td>\n",
       "      <td>1</td>\n",
       "      <td>0</td>\n",
       "      <td>1</td>\n",
       "      <td>0</td>\n",
       "      <td>1</td>\n",
       "      <td>0</td>\n",
       "      <td>0</td>\n",
       "      <td>0</td>\n",
       "      <td>1</td>\n",
       "      <td>0</td>\n",
       "      <td>0</td>\n",
       "      <td>0</td>\n",
       "      <td>1</td>\n",
       "      <td>0</td>\n",
       "      <td>0</td>\n",
       "      <td>0</td>\n",
       "      <td>0</td>\n",
       "      <td>0</td>\n",
       "      <td>0</td>\n",
       "      <td>0</td>\n",
       "      <td>1</td>\n",
       "      <td>0</td>\n",
       "      <td>0</td>\n",
       "    </tr>\n",
       "    <tr>\n",
       "      <th>3</th>\n",
       "      <td>4</td>\n",
       "      <td>2</td>\n",
       "      <td>99.8</td>\n",
       "      <td>176.6</td>\n",
       "      <td>66.2</td>\n",
       "      <td>54.3</td>\n",
       "      <td>2337</td>\n",
       "      <td>109</td>\n",
       "      <td>3.19</td>\n",
       "      <td>3.40</td>\n",
       "      <td>10.0</td>\n",
       "      <td>102</td>\n",
       "      <td>5500</td>\n",
       "      <td>24</td>\n",
       "      <td>30</td>\n",
       "      <td>1</td>\n",
       "      <td>0</td>\n",
       "      <td>0</td>\n",
       "      <td>0</td>\n",
       "      <td>0</td>\n",
       "      <td>1</td>\n",
       "      <td>0</td>\n",
       "      <td>1</td>\n",
       "      <td>0</td>\n",
       "      <td>0</td>\n",
       "      <td>0</td>\n",
       "      <td>1</td>\n",
       "      <td>0</td>\n",
       "      <td>0</td>\n",
       "      <td>0</td>\n",
       "      <td>0</td>\n",
       "      <td>0</td>\n",
       "      <td>0</td>\n",
       "      <td>0</td>\n",
       "      <td>0</td>\n",
       "      <td>1</td>\n",
       "      <td>0</td>\n",
       "      <td>0</td>\n",
       "    </tr>\n",
       "    <tr>\n",
       "      <th>4</th>\n",
       "      <td>5</td>\n",
       "      <td>2</td>\n",
       "      <td>99.4</td>\n",
       "      <td>176.6</td>\n",
       "      <td>66.4</td>\n",
       "      <td>54.3</td>\n",
       "      <td>2824</td>\n",
       "      <td>136</td>\n",
       "      <td>3.19</td>\n",
       "      <td>3.40</td>\n",
       "      <td>8.0</td>\n",
       "      <td>115</td>\n",
       "      <td>5500</td>\n",
       "      <td>18</td>\n",
       "      <td>22</td>\n",
       "      <td>1</td>\n",
       "      <td>0</td>\n",
       "      <td>0</td>\n",
       "      <td>0</td>\n",
       "      <td>0</td>\n",
       "      <td>1</td>\n",
       "      <td>0</td>\n",
       "      <td>0</td>\n",
       "      <td>0</td>\n",
       "      <td>0</td>\n",
       "      <td>1</td>\n",
       "      <td>0</td>\n",
       "      <td>0</td>\n",
       "      <td>0</td>\n",
       "      <td>0</td>\n",
       "      <td>0</td>\n",
       "      <td>0</td>\n",
       "      <td>0</td>\n",
       "      <td>0</td>\n",
       "      <td>0</td>\n",
       "      <td>1</td>\n",
       "      <td>0</td>\n",
       "      <td>0</td>\n",
       "    </tr>\n",
       "  </tbody>\n",
       "</table>\n",
       "</div>"
      ],
      "text/plain": [
       "   car_ID  symboling  wheelbase  carlength  carwidth  carheight  curbweight  enginesize  boreratio  stroke  compressionratio  horsepower  peakrpm  citympg  highwaympg  fueltype_gas  aspiration_turbo  doornumber_two  carbody_hardtop  carbody_hatchback  carbody_sedan  carbody_wagon  drivewheel_fwd  drivewheel_rwd  enginelocation_rear  cylindernumber_five  cylindernumber_four  cylindernumber_six  cylindernumber_three  cylindernumber_twelve  cylindernumber_two  fuelsystem_2bbl  fuelsystem_4bbl  fuelsystem_idi  fuelsystem_mfi  fuelsystem_mpfi  fuelsystem_spdi  fuelsystem_spfi\n",
       "0       1          3       88.6      168.8      64.1       48.8        2548         130       3.47    2.68               9.0         111     5000       21          27             1                 0               1                0                  0              0              0               0               1                    0                    0                    1                   0                     0                      0                   0                0                0               0               0                1                0                0\n",
       "1       2          3       88.6      168.8      64.1       48.8        2548         130       3.47    2.68               9.0         111     5000       21          27             1                 0               1                0                  0              0              0               0               1                    0                    0                    1                   0                     0                      0                   0                0                0               0               0                1                0                0\n",
       "2       3          1       94.5      171.2      65.5       52.4        2823         152       2.68    3.47               9.0         154     5000       19          26             1                 0               1                0                  1              0              0               0               1                    0                    0                    0                   1                     0                      0                   0                0                0               0               0                1                0                0\n",
       "3       4          2       99.8      176.6      66.2       54.3        2337         109       3.19    3.40              10.0         102     5500       24          30             1                 0               0                0                  0              1              0               1               0                    0                    0                    1                   0                     0                      0                   0                0                0               0               0                1                0                0\n",
       "4       5          2       99.4      176.6      66.4       54.3        2824         136       3.19    3.40               8.0         115     5500       18          22             1                 0               0                0                  0              1              0               0               0                    0                    1                    0                   0                     0                      0                   0                0                0               0               0                1                0                0"
      ]
     },
     "execution_count": 33,
     "metadata": {},
     "output_type": "execute_result"
    }
   ],
   "source": [
    "num=df.select_dtypes(include=np.number)\n",
    "num=num.drop(num[['price']],axis='columns')\n",
    "num.head()"
   ]
  },
  {
   "cell_type": "code",
   "execution_count": 34,
   "id": "f74b58a4",
   "metadata": {},
   "outputs": [],
   "source": [
    "x=num.drop(num[['car_ID']],axis='columns')\n",
    "y=df[['price']]"
   ]
  },
  {
   "cell_type": "code",
   "execution_count": 35,
   "id": "71eb46ba",
   "metadata": {},
   "outputs": [],
   "source": [
    "from sklearn.model_selection import train_test_split"
   ]
  },
  {
   "cell_type": "code",
   "execution_count": 36,
   "id": "b714e311",
   "metadata": {},
   "outputs": [],
   "source": [
    "x_train,x_test,y_train,y_test=train_test_split(x,y,test_size=0.2)"
   ]
  },
  {
   "cell_type": "code",
   "execution_count": 37,
   "id": "280355c7",
   "metadata": {},
   "outputs": [
    {
     "data": {
      "text/plain": [
       "(164, 37)"
      ]
     },
     "execution_count": 37,
     "metadata": {},
     "output_type": "execute_result"
    }
   ],
   "source": [
    "x_train.shape"
   ]
  },
  {
   "cell_type": "code",
   "execution_count": 38,
   "id": "bb05f720",
   "metadata": {},
   "outputs": [
    {
     "data": {
      "text/plain": [
       "(164, 1)"
      ]
     },
     "execution_count": 38,
     "metadata": {},
     "output_type": "execute_result"
    }
   ],
   "source": [
    "y_train.shape"
   ]
  },
  {
   "cell_type": "code",
   "execution_count": 39,
   "id": "51fa2ef4",
   "metadata": {},
   "outputs": [
    {
     "data": {
      "text/plain": [
       "(41, 37)"
      ]
     },
     "execution_count": 39,
     "metadata": {},
     "output_type": "execute_result"
    }
   ],
   "source": [
    "x_test.shape"
   ]
  },
  {
   "cell_type": "code",
   "execution_count": 40,
   "id": "f2c24a7d",
   "metadata": {},
   "outputs": [
    {
     "data": {
      "text/plain": [
       "(41, 1)"
      ]
     },
     "execution_count": 40,
     "metadata": {},
     "output_type": "execute_result"
    }
   ],
   "source": [
    "y_test.shape"
   ]
  },
  {
   "cell_type": "code",
   "execution_count": 44,
   "id": "e75ede3a",
   "metadata": {},
   "outputs": [],
   "source": [
    "from sklearn.linear_model import LinearRegression"
   ]
  },
  {
   "cell_type": "code",
   "execution_count": 45,
   "id": "a2e4e086",
   "metadata": {},
   "outputs": [
    {
     "data": {
      "text/html": [
       "<style>#sk-container-id-1 {color: black;background-color: white;}#sk-container-id-1 pre{padding: 0;}#sk-container-id-1 div.sk-toggleable {background-color: white;}#sk-container-id-1 label.sk-toggleable__label {cursor: pointer;display: block;width: 100%;margin-bottom: 0;padding: 0.3em;box-sizing: border-box;text-align: center;}#sk-container-id-1 label.sk-toggleable__label-arrow:before {content: \"▸\";float: left;margin-right: 0.25em;color: #696969;}#sk-container-id-1 label.sk-toggleable__label-arrow:hover:before {color: black;}#sk-container-id-1 div.sk-estimator:hover label.sk-toggleable__label-arrow:before {color: black;}#sk-container-id-1 div.sk-toggleable__content {max-height: 0;max-width: 0;overflow: hidden;text-align: left;background-color: #f0f8ff;}#sk-container-id-1 div.sk-toggleable__content pre {margin: 0.2em;color: black;border-radius: 0.25em;background-color: #f0f8ff;}#sk-container-id-1 input.sk-toggleable__control:checked~div.sk-toggleable__content {max-height: 200px;max-width: 100%;overflow: auto;}#sk-container-id-1 input.sk-toggleable__control:checked~label.sk-toggleable__label-arrow:before {content: \"▾\";}#sk-container-id-1 div.sk-estimator input.sk-toggleable__control:checked~label.sk-toggleable__label {background-color: #d4ebff;}#sk-container-id-1 div.sk-label input.sk-toggleable__control:checked~label.sk-toggleable__label {background-color: #d4ebff;}#sk-container-id-1 input.sk-hidden--visually {border: 0;clip: rect(1px 1px 1px 1px);clip: rect(1px, 1px, 1px, 1px);height: 1px;margin: -1px;overflow: hidden;padding: 0;position: absolute;width: 1px;}#sk-container-id-1 div.sk-estimator {font-family: monospace;background-color: #f0f8ff;border: 1px dotted black;border-radius: 0.25em;box-sizing: border-box;margin-bottom: 0.5em;}#sk-container-id-1 div.sk-estimator:hover {background-color: #d4ebff;}#sk-container-id-1 div.sk-parallel-item::after {content: \"\";width: 100%;border-bottom: 1px solid gray;flex-grow: 1;}#sk-container-id-1 div.sk-label:hover label.sk-toggleable__label {background-color: #d4ebff;}#sk-container-id-1 div.sk-serial::before {content: \"\";position: absolute;border-left: 1px solid gray;box-sizing: border-box;top: 0;bottom: 0;left: 50%;z-index: 0;}#sk-container-id-1 div.sk-serial {display: flex;flex-direction: column;align-items: center;background-color: white;padding-right: 0.2em;padding-left: 0.2em;position: relative;}#sk-container-id-1 div.sk-item {position: relative;z-index: 1;}#sk-container-id-1 div.sk-parallel {display: flex;align-items: stretch;justify-content: center;background-color: white;position: relative;}#sk-container-id-1 div.sk-item::before, #sk-container-id-1 div.sk-parallel-item::before {content: \"\";position: absolute;border-left: 1px solid gray;box-sizing: border-box;top: 0;bottom: 0;left: 50%;z-index: -1;}#sk-container-id-1 div.sk-parallel-item {display: flex;flex-direction: column;z-index: 1;position: relative;background-color: white;}#sk-container-id-1 div.sk-parallel-item:first-child::after {align-self: flex-end;width: 50%;}#sk-container-id-1 div.sk-parallel-item:last-child::after {align-self: flex-start;width: 50%;}#sk-container-id-1 div.sk-parallel-item:only-child::after {width: 0;}#sk-container-id-1 div.sk-dashed-wrapped {border: 1px dashed gray;margin: 0 0.4em 0.5em 0.4em;box-sizing: border-box;padding-bottom: 0.4em;background-color: white;}#sk-container-id-1 div.sk-label label {font-family: monospace;font-weight: bold;display: inline-block;line-height: 1.2em;}#sk-container-id-1 div.sk-label-container {text-align: center;}#sk-container-id-1 div.sk-container {/* jupyter's `normalize.less` sets `[hidden] { display: none; }` but bootstrap.min.css set `[hidden] { display: none !important; }` so we also need the `!important` here to be able to override the default hidden behavior on the sphinx rendered scikit-learn.org. See: https://github.com/scikit-learn/scikit-learn/issues/21755 */display: inline-block !important;position: relative;}#sk-container-id-1 div.sk-text-repr-fallback {display: none;}</style><div id=\"sk-container-id-1\" class=\"sk-top-container\"><div class=\"sk-text-repr-fallback\"><pre>LinearRegression()</pre><b>In a Jupyter environment, please rerun this cell to show the HTML representation or trust the notebook. <br />On GitHub, the HTML representation is unable to render, please try loading this page with nbviewer.org.</b></div><div class=\"sk-container\" hidden><div class=\"sk-item\"><div class=\"sk-estimator sk-toggleable\"><input class=\"sk-toggleable__control sk-hidden--visually\" id=\"sk-estimator-id-1\" type=\"checkbox\" checked><label for=\"sk-estimator-id-1\" class=\"sk-toggleable__label sk-toggleable__label-arrow\">LinearRegression</label><div class=\"sk-toggleable__content\"><pre>LinearRegression()</pre></div></div></div></div></div>"
      ],
      "text/plain": [
       "LinearRegression()"
      ]
     },
     "execution_count": 45,
     "metadata": {},
     "output_type": "execute_result"
    }
   ],
   "source": [
    "v=LinearRegression()\n",
    "v.fit(x_train,y_train)"
   ]
  },
  {
   "cell_type": "code",
   "execution_count": 49,
   "id": "6e2e1347",
   "metadata": {},
   "outputs": [
    {
     "data": {
      "text/plain": [
       "array([[11979.18313281],\n",
       "       [15128.06672536],\n",
       "       [ 9419.67666565],\n",
       "       [ 9897.58882284],\n",
       "       [ 4777.31178182],\n",
       "       [15831.15330684],\n",
       "       [ 7323.47352626],\n",
       "       [ 6573.65221691],\n",
       "       [10742.5423823 ],\n",
       "       [15995.05226941],\n",
       "       [17910.68326653],\n",
       "       [ 3601.65472316],\n",
       "       [16643.21846112],\n",
       "       [ 7139.13994481],\n",
       "       [16270.99218863],\n",
       "       [19548.51657759],\n",
       "       [33147.85775444],\n",
       "       [20180.48116956],\n",
       "       [ 9732.18366478],\n",
       "       [ 6709.48743794],\n",
       "       [10455.564768  ],\n",
       "       [19169.04504852],\n",
       "       [15791.22651568],\n",
       "       [ 6653.04468495],\n",
       "       [ 8263.85083888],\n",
       "       [15129.45919977],\n",
       "       [ 9647.47391787],\n",
       "       [ 7328.00253315],\n",
       "       [10895.18235595],\n",
       "       [20985.26084637],\n",
       "       [ 6507.48131565],\n",
       "       [ 7307.2420056 ],\n",
       "       [ 9958.44476419],\n",
       "       [10285.93966439],\n",
       "       [ 9353.20995471],\n",
       "       [22477.55755952],\n",
       "       [ 7141.5660977 ],\n",
       "       [24540.50682879],\n",
       "       [ 5970.66153369],\n",
       "       [14298.52631538],\n",
       "       [24591.83592489]])"
      ]
     },
     "execution_count": 49,
     "metadata": {},
     "output_type": "execute_result"
    }
   ],
   "source": [
    "y_pred=v.predict(x_test)\n",
    "y_pred"
   ]
  },
  {
   "cell_type": "code",
   "execution_count": 50,
   "id": "950ddeba",
   "metadata": {},
   "outputs": [
    {
     "data": {
      "text/plain": [
       "0.7929259157025915"
      ]
     },
     "execution_count": 50,
     "metadata": {},
     "output_type": "execute_result"
    }
   ],
   "source": [
    "v.score(x_test,y_test)"
   ]
  },
  {
   "cell_type": "code",
   "execution_count": 51,
   "id": "2480e770",
   "metadata": {},
   "outputs": [
    {
     "data": {
      "text/plain": [
       "0.929507733174848"
      ]
     },
     "execution_count": 51,
     "metadata": {},
     "output_type": "execute_result"
    }
   ],
   "source": [
    "v.score(x_train,y_train)"
   ]
  },
  {
   "cell_type": "code",
   "execution_count": 54,
   "id": "e609d131",
   "metadata": {},
   "outputs": [],
   "source": [
    "import matplotlib.pyplot as plt"
   ]
  },
  {
   "cell_type": "code",
   "execution_count": null,
   "id": "073bbdad",
   "metadata": {},
   "outputs": [],
   "source": []
  }
 ],
 "metadata": {
  "kernelspec": {
   "display_name": "Python 3 (ipykernel)",
   "language": "python",
   "name": "python3"
  },
  "language_info": {
   "codemirror_mode": {
    "name": "ipython",
    "version": 3
   },
   "file_extension": ".py",
   "mimetype": "text/x-python",
   "name": "python",
   "nbconvert_exporter": "python",
   "pygments_lexer": "ipython3",
   "version": "3.10.9"
  }
 },
 "nbformat": 4,
 "nbformat_minor": 5
}
